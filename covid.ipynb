{
 "cells": [
  {
   "cell_type": "code",
   "execution_count": 1,
   "metadata": {},
   "outputs": [
    {
     "data": {
      "text/html": [
       "<div>\n",
       "<style scoped>\n",
       "    .dataframe tbody tr th:only-of-type {\n",
       "        vertical-align: middle;\n",
       "    }\n",
       "\n",
       "    .dataframe tbody tr th {\n",
       "        vertical-align: top;\n",
       "    }\n",
       "\n",
       "    .dataframe thead th {\n",
       "        text-align: right;\n",
       "    }\n",
       "</style>\n",
       "<table border=\"1\" class=\"dataframe\">\n",
       "  <thead>\n",
       "    <tr style=\"text-align: right;\">\n",
       "      <th></th>\n",
       "      <th>id</th>\n",
       "      <th>neutral_venue</th>\n",
       "      <th>result_margin</th>\n",
       "      <th>method</th>\n",
       "    </tr>\n",
       "  </thead>\n",
       "  <tbody>\n",
       "    <tr>\n",
       "      <th>count</th>\n",
       "      <td>2.100000e+01</td>\n",
       "      <td>21.0</td>\n",
       "      <td>20.000000</td>\n",
       "      <td>0.0</td>\n",
       "    </tr>\n",
       "    <tr>\n",
       "      <th>mean</th>\n",
       "      <td>1.254068e+06</td>\n",
       "      <td>0.0</td>\n",
       "      <td>14.100000</td>\n",
       "      <td>NaN</td>\n",
       "    </tr>\n",
       "    <tr>\n",
       "      <th>std</th>\n",
       "      <td>6.204837e+00</td>\n",
       "      <td>0.0</td>\n",
       "      <td>17.001238</td>\n",
       "      <td>NaN</td>\n",
       "    </tr>\n",
       "    <tr>\n",
       "      <th>min</th>\n",
       "      <td>1.254058e+06</td>\n",
       "      <td>0.0</td>\n",
       "      <td>2.000000</td>\n",
       "      <td>NaN</td>\n",
       "    </tr>\n",
       "    <tr>\n",
       "      <th>25%</th>\n",
       "      <td>1.254063e+06</td>\n",
       "      <td>0.0</td>\n",
       "      <td>6.000000</td>\n",
       "      <td>NaN</td>\n",
       "    </tr>\n",
       "    <tr>\n",
       "      <th>50%</th>\n",
       "      <td>1.254068e+06</td>\n",
       "      <td>0.0</td>\n",
       "      <td>8.000000</td>\n",
       "      <td>NaN</td>\n",
       "    </tr>\n",
       "    <tr>\n",
       "      <th>75%</th>\n",
       "      <td>1.254073e+06</td>\n",
       "      <td>0.0</td>\n",
       "      <td>10.750000</td>\n",
       "      <td>NaN</td>\n",
       "    </tr>\n",
       "    <tr>\n",
       "      <th>max</th>\n",
       "      <td>1.254078e+06</td>\n",
       "      <td>0.0</td>\n",
       "      <td>69.000000</td>\n",
       "      <td>NaN</td>\n",
       "    </tr>\n",
       "  </tbody>\n",
       "</table>\n",
       "</div>"
      ],
      "text/plain": [
       "                 id  neutral_venue  result_margin  method\n",
       "count  2.100000e+01           21.0      20.000000     0.0\n",
       "mean   1.254068e+06            0.0      14.100000     NaN\n",
       "std    6.204837e+00            0.0      17.001238     NaN\n",
       "min    1.254058e+06            0.0       2.000000     NaN\n",
       "25%    1.254063e+06            0.0       6.000000     NaN\n",
       "50%    1.254068e+06            0.0       8.000000     NaN\n",
       "75%    1.254073e+06            0.0      10.750000     NaN\n",
       "max    1.254078e+06            0.0      69.000000     NaN"
      ]
     },
     "execution_count": 1,
     "metadata": {},
     "output_type": "execute_result"
    }
   ],
   "source": [
    "import pandas as pd\n",
    "from pandas_profiling import ProfileReport\n",
    "\n",
    "df = pd.read_csv('IPL Matches Dataset 2021.csv')\n",
    "#df.head()\n",
    "#df.shape\n",
    "\n",
    "df.describe()\n",
    "#profile = ProfileReport(df)\n",
    "#profile.to_file(output_file=\"covid_19_clean_complete.html\")"
   ]
  },
  {
   "cell_type": "code",
   "execution_count": 2,
   "metadata": {},
   "outputs": [
    {
     "name": "stdout",
     "output_type": "stream",
     "text": [
      "<class 'pandas.core.frame.DataFrame'>\n",
      "RangeIndex: 21 entries, 0 to 20\n",
      "Data columns (total 17 columns):\n",
      " #   Column           Non-Null Count  Dtype  \n",
      "---  ------           --------------  -----  \n",
      " 0   id               21 non-null     int64  \n",
      " 1   city             21 non-null     object \n",
      " 2   date             21 non-null     object \n",
      " 3   player_of_match  21 non-null     object \n",
      " 4   venue            21 non-null     object \n",
      " 5   neutral_venue    21 non-null     int64  \n",
      " 6   team1            21 non-null     object \n",
      " 7   team2            21 non-null     object \n",
      " 8   toss_winner      21 non-null     object \n",
      " 9   toss_decision    21 non-null     object \n",
      " 10  winner           21 non-null     object \n",
      " 11  result           21 non-null     object \n",
      " 12  result_margin    20 non-null     float64\n",
      " 13  eliminator       21 non-null     object \n",
      " 14  method           0 non-null      float64\n",
      " 15  umpire1          21 non-null     object \n",
      " 16  umpire2          21 non-null     object \n",
      "dtypes: float64(2), int64(2), object(13)\n",
      "memory usage: 2.9+ KB\n"
     ]
    }
   ],
   "source": [
    "df.info()"
   ]
  },
  {
   "cell_type": "code",
   "execution_count": null,
   "metadata": {},
   "outputs": [],
   "source": []
  }
 ],
 "metadata": {
  "interpreter": {
   "hash": "2e26d2f57d00b66bbacd66603027255515b714fe2db5cd0739a98c8dd623e8a9"
  },
  "kernelspec": {
   "display_name": "Python 3.9.7 64-bit",
   "language": "python",
   "name": "python3"
  },
  "language_info": {
   "codemirror_mode": {
    "name": "ipython",
    "version": 3
   },
   "file_extension": ".py",
   "mimetype": "text/x-python",
   "name": "python",
   "nbconvert_exporter": "python",
   "pygments_lexer": "ipython3",
   "version": "3.9.7"
  },
  "orig_nbformat": 4
 },
 "nbformat": 4,
 "nbformat_minor": 2
}
