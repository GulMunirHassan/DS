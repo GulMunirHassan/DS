{
 "cells": [
  {
   "cell_type": "code",
   "execution_count": 1,
   "metadata": {},
   "outputs": [
    {
     "name": "stdout",
     "output_type": "stream",
     "text": [
      "Enter the 1 number5\n",
      "Enter the 2 number8\n",
      "Enter the 3 number4\n",
      "Enter the 4 number10\n",
      "greater no 10\n"
     ]
    }
   ],
   "source": [
    "#Print the Greater Number\n",
    "\n",
    "n1=int(input(\"Enter the 1 number\"))\n",
    "n2=int(input(\"Enter the 2 number\"))\n",
    "n3=int(input(\"Enter the 3 number\"))\n",
    "n4=int(input(\"Enter the 4 number\"))\n",
    "\n",
    "if(n1>n2):\n",
    "    a=n1\n",
    "else:\n",
    "    a=n2\n",
    "    \n",
    "if(n3>n4):\n",
    "    b=n3\n",
    "else:\n",
    "    b=n4\n",
    "    \n",
    "if(a>b):\n",
    "    print(\"greater no\",a)\n",
    "else:\n",
    "    print(\"greater no\",b)"
   ]
  },
  {
   "cell_type": "code",
   "execution_count": null,
   "metadata": {},
   "outputs": [],
   "source": []
  }
 ],
 "metadata": {
  "kernelspec": {
   "display_name": "Python 3",
   "language": "python",
   "name": "python3"
  },
  "language_info": {
   "codemirror_mode": {
    "name": "ipython",
    "version": 3
   },
   "file_extension": ".py",
   "mimetype": "text/x-python",
   "name": "python",
   "nbconvert_exporter": "python",
   "pygments_lexer": "ipython3",
   "version": "3.8.5"
  }
 },
 "nbformat": 4,
 "nbformat_minor": 4
}
