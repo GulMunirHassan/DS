{
 "cells": [
  {
   "cell_type": "markdown",
   "metadata": {},
   "source": [
    "# Tasks"
   ]
  },
  {
   "cell_type": "code",
   "execution_count": null,
   "metadata": {},
   "outputs": [
    {
     "name": "stdout",
     "output_type": "stream",
     "text": [
      "You are selected as a software engineer\n"
     ]
    }
   ],
   "source": [
    "#1.\n",
    "#GameXone offering a new position in their software house,\n",
    "#you are selected for an interview. The criteria for\n",
    "#selecting your position  either as a programmer or \n",
    "#management person is that if you are having 4-5 years \n",
    "#of experience in game development than you will be hired\n",
    "#as a Developer otherwise they will shortlist your for \n",
    "#management.\n",
    "\n",
    "experience = int(input(\"Enter the experience\"))\n",
    "if (experience >= 4 ):\n",
    "    print(\"You are selected as a software engineer\")\n",
    "else:\n",
    "    print(\"You are shortlisted for management\")\n"
   ]
  },
  {
   "cell_type": "code",
   "execution_count": null,
   "metadata": {},
   "outputs": [
    {
     "name": "stdout",
     "output_type": "stream",
     "text": [
      "Arts\n"
     ]
    }
   ],
   "source": [
    "#2.\n",
    "#Design a career counseling system for students to select\n",
    "#their field. You are requested to think like a counsellor\n",
    "#who guide students to choose a career according to their\n",
    "#interest and passion. If their hobbies , or interest is \n",
    "#in arts, drawing , management , suggest them a field of \n",
    "#Arts , if they are logical, having expertise and interest \n",
    "#in programming , problem solving ,technologies than suggest\n",
    "#to pursue their career in Engineering domain .  \n",
    "#If they showed their interest in bio , science , discipline\n",
    "#and development of humanity than suggest them a medical\n",
    "#field.\n",
    "career_counseling_system = {\"Art\":\"Arts\",\"Drawing\":\"Arts\",\"Management\":\"Arts\",\"Logical\":\"Engineering\",\"Programing\":\"Software Engineering\",\"problem solving\":\"Software Engineering or Computer Systems\",\"technologies\":\"Computer Science\"}\n",
    "interest = input(\"Enter your interest\")\n",
    "print(career_counseling_system.get(interest))"
   ]
  },
  {
   "cell_type": "code",
   "execution_count": null,
   "metadata": {},
   "outputs": [
    {
     "name": "stdout",
     "output_type": "stream",
     "text": [
      "Addition = 4\n",
      "Subtract = 0\n",
      "Multiplication = 4\n",
      "Division = 1.0\n",
      "Floor Division = 1\n"
     ]
    }
   ],
   "source": [
    "#3.\n",
    "#Design a calculator that takes 2 values from user to \n",
    "#apply mathematical operations\n",
    "#Addition , \n",
    "#subtraction, \n",
    "#division, \n",
    "#multiplication and\n",
    "#floor division.\n",
    "f_n = int(input(\"Enter first number\"))\n",
    "s_n = int(input(\"Enter second number\"))\n",
    "print(\"Addition =\",f_n+s_n)\n",
    "print(\"Subtract =\",f_n-s_n)\n",
    "print(\"Multiplication =\",f_n*s_n)\n",
    "print(\"Division =\",f_n/s_n)\n",
    "print(\"Floor Division =\",f_n//s_n)\n",
    "\n"
   ]
  },
  {
   "cell_type": "code",
   "execution_count": null,
   "metadata": {},
   "outputs": [
    {
     "name": "stdout",
     "output_type": "stream",
     "text": [
      "Equal\n"
     ]
    }
   ],
   "source": [
    "#4.\n",
    "# Takes 2 arguments from user and check whether they are equal or not\n",
    "f_a = input(\"Enter first argument\")\n",
    "s_a = input(\"Enter second argument\")\n",
    "if f_a == s_a or f_a.equals(s_a):\n",
    "    print(\"Equal\")\n",
    "else:\n",
    "    print(\"Not equal\")\n"
   ]
  },
  {
   "cell_type": "code",
   "execution_count": null,
   "metadata": {},
   "outputs": [
    {
     "name": "stdout",
     "output_type": "stream",
     "text": [
      "Area is :  158.75\n"
     ]
    }
   ],
   "source": [
    "#5.\n",
    "# Design a system that Calculates the area of a plot.\n",
    "width = float(input(\"Enter Width\"))\n",
    "height = float(input(\"Enter Height\"))\n",
    "area = float(height * width)\n",
    "print(\"Area is : \", area)\n"
   ]
  }
 ],
 "metadata": {
  "language_info": {
   "name": "python"
  },
  "orig_nbformat": 4
 },
 "nbformat": 4,
 "nbformat_minor": 2
}
"source": [
    "#6.\n",
    "# Print the Greater Number.\n",
     n1=int(input("\Enter the 1 number\"))
     n2=int(input("\Enter the 2 number\"))
     n3=int(input("Enter the 3 number"))
     n4=int(input("Enter the 4 number"))

  if(n1>n2):
    a=n1
else:
    a=n2
    
if(n3>n4):
    b=n3
else:
    b=n4
    
if(a>b):
    print("greater no",a)
else:
    print("greater no",b)
]
}
 

