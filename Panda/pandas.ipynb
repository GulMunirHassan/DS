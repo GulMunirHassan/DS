{
 "cells": [
  {
   "cell_type": "code",
   "execution_count": 3,
   "metadata": {},
   "outputs": [],
   "source": [
    "import pandas as pd "
   ]
  },
  {
   "cell_type": "code",
   "execution_count": 2,
   "metadata": {},
   "outputs": [
    {
     "name": "stdout",
     "output_type": "stream",
     "text": [
      "{'uni': ['lumhs', 'muet', 'sindh'], 'degree_program': ['medical', 'engineering', 'general'], 'fees': [30000, 32000, 18000]}\n"
     ]
    }
   ],
   "source": [
    "dic={'uni':['lumhs','muet','sindh'],'degree_program':['medical','engineering','general'],'fees':[30000,32000,18000]}\n",
    "print(dic)"
   ]
  },
  {
   "cell_type": "markdown",
   "metadata": {},
   "source": [
    "Dictonary to list"
   ]
  },
  {
   "cell_type": "code",
   "execution_count": 4,
   "metadata": {},
   "outputs": [
    {
     "name": "stdout",
     "output_type": "stream",
     "text": [
      "     uni degree_program   fees\n",
      "0  lumhs        medical  30000\n",
      "1   muet    engineering  32000\n",
      "2  sindh        general  18000\n"
     ]
    }
   ],
   "source": [
    "d=pd.DataFrame(dic)\n",
    "print(d)"
   ]
  },
  {
   "cell_type": "markdown",
   "metadata": {},
   "source": [
    "Dictonary to tuple"
   ]
  },
  {
   "cell_type": "code",
   "execution_count": 8,
   "metadata": {},
   "outputs": [
    {
     "name": "stdout",
     "output_type": "stream",
     "text": [
      "     uni degree_program   fees\n",
      "0  lumhs        medical  30000\n",
      "1   muet    engineering  32000\n",
      "2  sindh        general  18000\n",
      "<class 'pandas.core.frame.DataFrame'>\n"
     ]
    }
   ],
   "source": [
    "dic1={'uni':('lumhs','muet','sindh'),'degree_program':('medical','engineering','general'),'fees':(30000,32000,18000)}\n",
    "d1=pd.DataFrame(dic1)\n",
    "print(d1)"
   ]
  },
  {
   "cell_type": "code",
   "execution_count": 12,
   "metadata": {},
   "outputs": [
    {
     "name": "stdout",
     "output_type": "stream",
     "text": [
      "  name        phone    city  code   course demand\n",
      "0  ALi  03423987710  Khipro   NaN      NaN    NaN\n",
      "1  NaN          NaN     NaN  11.0  navtacc   good\n"
     ]
    }
   ],
   "source": [
    "l1=[{'name':'ALi','phone':'03423987710','city':'Khipro'},{'code':11,'course':'navtacc','demand':'good'}]\n",
    "d2=pd.DataFrame(l1)\n",
    "print(d2)\n"
   ]
  },
  {
   "cell_type": "code",
   "execution_count": 8,
   "metadata": {},
   "outputs": [
    {
     "name": "stdout",
     "output_type": "stream",
     "text": [
      "   age  count  roll_no  name  room\n",
      "0    1      2        3     4     5\n",
      "1    6      7        8     9    10\n"
     ]
    }
   ],
   "source": [
    "l2=[[1,2,3,4,5],[6,7,8,9,10]]\n",
    "d3=pd.DataFrame(l2,columns=['age','count','roll_no','name','room'])\n",
    "print(d3)"
   ]
  },
  {
   "cell_type": "code",
   "execution_count": 9,
   "metadata": {},
   "outputs": [
    {
     "name": "stdout",
     "output_type": "stream",
     "text": [
      "   age  count\n",
      "0    1      2\n",
      "1    6      7\n"
     ]
    }
   ],
   "source": [
    "s=d3.iloc[0:2,0:2]\n",
    "print(s)"
   ]
  },
  {
   "cell_type": "code",
   "execution_count": 18,
   "metadata": {},
   "outputs": [
    {
     "ename": "SyntaxError",
     "evalue": "invalid syntax (559996298.py, line 1)",
     "output_type": "error",
     "traceback": [
      "\u001b[1;36m  Input \u001b[1;32mIn [18]\u001b[1;36m\u001b[0m\n\u001b[1;33m    s1=d3.loc[(0:2),['ali','arain']]\u001b[0m\n\u001b[1;37m                ^\u001b[0m\n\u001b[1;31mSyntaxError\u001b[0m\u001b[1;31m:\u001b[0m invalid syntax\n"
     ]
    }
   ],
   "source": [
    "s1=d3.loc[(0:2),['ali','arain']]\n",
    "print(s1)"
   ]
  },
  {
   "cell_type": "code",
   "execution_count": null,
   "metadata": {},
   "outputs": [],
   "source": []
  }
 ],
 "metadata": {
  "interpreter": {
   "hash": "52956175a48f0f66e5800feb672726a770e1c8eee1eadf4f42e9ee5d6119818d"
  },
  "kernelspec": {
   "display_name": "Python 3.10.2 64-bit",
   "language": "python",
   "name": "python3"
  },
  "language_info": {
   "codemirror_mode": {
    "name": "ipython",
    "version": 3
   },
   "file_extension": ".py",
   "mimetype": "text/x-python",
   "name": "python",
   "nbconvert_exporter": "python",
   "pygments_lexer": "ipython3",
   "version": "3.10.2"
  },
  "orig_nbformat": 4
 },
 "nbformat": 4,
 "nbformat_minor": 2
}
